{
 "cells": [
  {
   "cell_type": "markdown",
   "id": "fe99a9cd-253f-4d8f-94e5-cb800c2fb98f",
   "metadata": {},
   "source": [
    "---\n",
    "title: Introduction\n",
    "date: 2023-12-01 \n",
    "authors:\n",
    "  - name: Sébastien Boisgérault\n",
    "    email: Sebastien.Boisgerault@minesparis.psl.eu\n",
    "    url: https://github.com/boisgera\n",
    "    affiliations:\n",
    "      - institution: Mines Paris - PSL University\n",
    "        department: Institut des Transformation Numériques (ITN)\n",
    "github: boisgera\n",
    "license: CC-BY-4.0\n",
    "open_access: true\n",
    "---"
   ]
  },
  {
   "cell_type": "markdown",
   "id": "2c72f6a2-f738-4b05-9c86-8b4071f10aa4",
   "metadata": {},
   "source": [
    "This project is about **tldraw**, a collaborative digital whiteboard that you can use at [tldraw.com](https://tldraw.com). "
   ]
  },
  {
   "cell_type": "markdown",
   "id": "fde23796-ed49-4a03-9056-61d25c217f83",
   "metadata": {},
   "source": [
    "![tldraw](images/tldraw-blank.png)"
   ]
  },
  {
   "cell_type": "markdown",
   "id": "6bdafeb2-51f3-4283-892a-503322cbf092",
   "metadata": {},
   "source": [
    "```{note} About this project\n",
    "\n",
    "We are going to:\n",
    "\n",
    "  1. Explore quickly the structure of tldraw documents and use that knowledge to modify a simple document in Python. [🔗](02-getting-started.ipynb)\n",
    "     \n",
    "  2. Develop a Python function to compare the contents of two tldraw documents. [🔗](03-changes.ipynb)\n",
    "\n",
    "  3. Investigate the method used by tldraw to deal with the depth of graphical objects inside its documents. [🔗](04-layers.ipynb)\n",
    "\n",
    "  4. Design an algorithm to recognize a simple signature ; then automatically detect this signature in tldraw documents. [🔗](05-glyphs.ipynb)\n",
    "\n",
    "```"
   ]
  }
 ],
 "metadata": {
  "kernelspec": {
   "display_name": "Python 3 (ipykernel)",
   "language": "python",
   "name": "python3"
  },
  "language_info": {
   "codemirror_mode": {
    "name": "ipython",
    "version": 3
   },
   "file_extension": ".py",
   "mimetype": "text/x-python",
   "name": "python",
   "nbconvert_exporter": "python",
   "pygments_lexer": "ipython3",
   "version": "3.12.0"
  }
 },
 "nbformat": 4,
 "nbformat_minor": 5
}

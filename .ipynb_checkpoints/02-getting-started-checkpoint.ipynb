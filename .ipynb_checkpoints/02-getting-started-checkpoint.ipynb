{
 "cells": [
  {
   "cell_type": "markdown",
   "id": "3fd25365-ace5-4fcd-a66c-119bf61582d0",
   "metadata": {},
   "source": [
    "---\n",
    "title: Getting Started\n",
    "date: 2023-11-30 \n",
    "authors:\n",
    "  - name: Sébastien Boisgérault\n",
    "    email: Sebastien.Boisgerault@minesparis.psl.eu\n",
    "    url: https://github.com/boisgera\n",
    "    affiliations:\n",
    "      - institution: Mines Paris - PSL University\n",
    "        department: Institut des Transformation Numériques (ITN)\n",
    "github: boisgera\n",
    "license: CC-BY-4.0\n",
    "open_access: true\n",
    "---"
   ]
  },
  {
   "cell_type": "markdown",
   "id": "99eb7623-348a-4873-9200-614c9be5bdb6",
   "metadata": {},
   "source": [
    "![tldraw](images/hello-tldraw.png)    "
   ]
  },
  {
   "cell_type": "code",
   "execution_count": 3,
   "id": "a6f882b3-676c-4126-b1cc-b175c98493d0",
   "metadata": {},
   "outputs": [],
   "source": [
    "# Importations nécessaires à cette partie\n",
    "\n",
    "import json"
   ]
  },
  {
   "cell_type": "markdown",
   "id": "f2cbb2bd-92e6-4c23-95b5-7996e1850533",
   "metadata": {},
   "source": [
    "# A Simple Document"
   ]
  },
  {
   "cell_type": "markdown",
   "id": "c95958ae-0e8e-40b3-9a1a-963745eda44e",
   "metadata": {},
   "source": [
    "```{exercise} Create a \"Hello tldraw!\" document\n",
    "\n",
    " 1. Download the folder of this project on your computer. \n",
    "  \n",
    " 2. Create an tldraw document that contains the text \"Hello tldraw!\" and save it on your computer.\n",
    " \n",
    " 3. Rename your tldraw document `hello-tldraw.tldr` and move it into the `docs` subfolder of the project.\n",
    "```"
   ]
  },
  {
   "cell_type": "markdown",
   "id": "f663cb6a-c804-4438-a6bb-7132a7c86332",
   "metadata": {},
   "source": [
    "Tldraw files are (utf-8-encoded) text files and therefore can be easily inspected. \n",
    "\n",
    "```{exercise} What's the format of tldraw documents?\n",
    "\n",
    "  1. Print the content of your \"Hello tldraw!\" document into this notebook.\n",
    "\n",
    "  2. The tldraw document format is a dialect of a general-purpose structured data format. \n",
    "  \n",
    "     Which one is it? (JSON, XML, CSV? something else?)\n",
    "\n",
    "```\n"
   ]
  },
  {
   "cell_type": "code",
   "execution_count": 4,
   "id": "0c4b7a74-a094-4d03-b5d4-725ba273d78f",
   "metadata": {
    "scrolled": true
   },
   "outputs": [
    {
     "name": "stdout",
     "output_type": "stream",
     "text": [
      "{\"tldrawFileFormatVersion\":1,\"schema\":{\"schemaVersion\":1,\"storeVersion\":4,\"recordVersions\":{\"asset\":{\"version\":1,\"subTypeKey\":\"type\",\"subTypeVersions\":{\"image\":3,\"video\":3,\"bookmark\":1}},\"camera\":{\"version\":1},\"document\":{\"version\":2},\"instance\":{\"version\":24},\"instance_page_state\":{\"version\":5},\"page\":{\"version\":1},\"shape\":{\"version\":3,\"subTypeKey\":\"type\",\"subTypeVersions\":{\"group\":0,\"text\":1,\"bookmark\":2,\"draw\":1,\"geo\":8,\"note\":5,\"line\":1,\"frame\":0,\"arrow\":3,\"highlight\":0,\"embed\":4,\"image\":3,\"video\":2}},\"instance_presence\":{\"version\":5},\"pointer\":{\"version\":1}}},\"records\":[{\"gridSize\":10,\"name\":\"\",\"meta\":{},\"id\":\"document:document\",\"typeName\":\"document\"},{\"id\":\"pointer:pointer\",\"typeName\":\"pointer\",\"x\":39.96662902832031,\"y\":44.85371398925781,\"lastActivityTimestamp\":1707521140180,\"meta\":{}},{\"meta\":{},\"id\":\"page:page\",\"name\":\"Page 1\",\"index\":\"a1\",\"typeName\":\"page\"},{\"x\":0,\"y\":0,\"z\":1,\"meta\":{},\"id\":\"camera:page:page\",\"typeName\":\"camera\"},{\"editingShapeId\":null,\"croppingShapeId\":null,\"selectedShapeIds\":[],\"hoveredShapeId\":null,\"erasingShapeIds\":[],\"hintingShapeIds\":[],\"focusedGroupId\":null,\"meta\":{},\"id\":\"instance_page_state:page:page\",\"pageId\":\"page:page\",\"typeName\":\"instance_page_state\"},{\"followingUserId\":null,\"opacityForNextShape\":1,\"stylesForNextShape\":{\"tldraw:size\":\"xl\",\"tldraw:font\":\"draw\"},\"brush\":null,\"scribbles\":[],\"cursor\":{\"type\":\"default\",\"rotation\":0},\"isFocusMode\":false,\"exportBackground\":true,\"isDebugMode\":false,\"isToolLocked\":false,\"screenBounds\":{\"x\":0,\"y\":0,\"w\":1440,\"h\":813},\"insets\":[false,false,false,false],\"zoomBrush\":null,\"isGridMode\":false,\"isPenMode\":false,\"chatMessage\":\"\",\"isChatting\":false,\"highlightedUserIds\":[],\"canMoveCamera\":true,\"isFocused\":true,\"devicePixelRatio\":1,\"isCoarsePointer\":false,\"isHoveringCanvas\":false,\"openMenus\":[\"main menu\",\"main menu menu file\"],\"isChangingStyle\":false,\"isReadonly\":false,\"meta\":{},\"duplicateProps\":null,\"id\":\"instance:instance\",\"currentPageId\":\"page:page\",\"typeName\":\"instance\"},{\"x\":483.33599853515625,\"y\":269.6429748535156,\"rotation\":0,\"isLocked\":false,\"opacity\":1,\"meta\":{},\"id\":\"shape:QEK28nrgsx2GJbk1uaMTQ\",\"type\":\"text\",\"props\":{\"color\":\"black\",\"size\":\"xl\",\"w\":566.2699584960938,\"text\":\"Hello Tldraw !\",\"font\":\"draw\",\"align\":\"middle\",\"autoSize\":false,\"scale\":1},\"parentId\":\"page:page\",\"index\":\"a1\",\"typeName\":\"shape\"}]}\n"
     ]
    }
   ],
   "source": [
    "hello1_path = \"/Users/ethanorel/tldraw-project/docs/hello-tldrawdr.tldr\"\n",
    "hello_path = \"/Users/ethanorel/tldraw-project/docs/hello-tldraw.tldr\"\n",
    "\n",
    "with open(hello_path, 'r', encoding='utf-8') as file:\n",
    "        content = file.read()\n",
    "        print(content)"
   ]
  },
  {
   "cell_type": "code",
   "execution_count": 5,
   "id": "d501d018-3bc8-46b9-a2ee-a3534c144fab",
   "metadata": {},
   "outputs": [
    {
     "name": "stdout",
     "output_type": "stream",
     "text": [
      "True\n",
      "Cela se voyait à la structure de dictionnaire qui apparaît lorsqu'on ouvre le fichier\n"
     ]
    }
   ],
   "source": [
    "def is_json_file(file_path):\n",
    "    try:\n",
    "        with open(file_path, 'r', encoding='utf-8') as file:\n",
    "            json.load(file)\n",
    "        return True\n",
    "    except (json.JSONDecodeError, FileNotFoundError):\n",
    "        return False\n",
    "\n",
    "print (is_json_file (hello_path))\n",
    "print (\"Cela se voyait à la structure de dictionnaire qui apparaît lorsqu'on ouvre le fichier\")"
   ]
  },
  {
   "cell_type": "markdown",
   "id": "a8f5e1cc-1425-4394-8d73-47640d66d298",
   "metadata": {},
   "source": [
    "\n",
    "```{exercise} Load the document\n",
    ":label: load\n",
    "\n",
    " 1. Find the Python standard library that deals with the file format use by tldraw.\n",
    "\n",
    " 2. Use it to load the tldraw document as a tree-like structure (⚠️ not as a string!).\n",
    "\n",
    " 3. Name this structure `hello`.\n",
    "\n",
    "```"
   ]
  },
  {
   "cell_type": "markdown",
   "id": "9a6d11dd-f9af-4a9f-8634-4c3488df385e",
   "metadata": {},
   "source": [
    "The Python standard library that deals with the file format use by tldraw is json."
   ]
  },
  {
   "cell_type": "code",
   "execution_count": 10,
   "id": "b07aa007-3c7a-41da-bf45-71516fbbd92b",
   "metadata": {
    "scrolled": true
   },
   "outputs": [
    {
     "data": {
      "text/plain": [
       "{'tldrawFileFormatVersion': 1,\n",
       " 'schema': {'schemaVersion': 1,\n",
       "  'storeVersion': 4,\n",
       "  'recordVersions': {'asset': {'version': 1,\n",
       "    'subTypeKey': 'type',\n",
       "    'subTypeVersions': {'image': 3, 'video': 3, 'bookmark': 1}},\n",
       "   'camera': {'version': 1},\n",
       "   'document': {'version': 2},\n",
       "   'instance': {'version': 24},\n",
       "   'instance_page_state': {'version': 5},\n",
       "   'page': {'version': 1},\n",
       "   'shape': {'version': 3,\n",
       "    'subTypeKey': 'type',\n",
       "    'subTypeVersions': {'group': 0,\n",
       "     'text': 1,\n",
       "     'bookmark': 2,\n",
       "     'draw': 1,\n",
       "     'geo': 8,\n",
       "     'note': 5,\n",
       "     'line': 1,\n",
       "     'frame': 0,\n",
       "     'arrow': 3,\n",
       "     'highlight': 0,\n",
       "     'embed': 4,\n",
       "     'image': 3,\n",
       "     'video': 2}},\n",
       "   'instance_presence': {'version': 5},\n",
       "   'pointer': {'version': 1}}},\n",
       " 'records': [{'gridSize': 10,\n",
       "   'name': '',\n",
       "   'meta': {},\n",
       "   'id': 'document:document',\n",
       "   'typeName': 'document'},\n",
       "  {'id': 'pointer:pointer',\n",
       "   'typeName': 'pointer',\n",
       "   'x': 39.96662902832031,\n",
       "   'y': 44.85371398925781,\n",
       "   'lastActivityTimestamp': 1707521140180,\n",
       "   'meta': {}},\n",
       "  {'meta': {},\n",
       "   'id': 'page:page',\n",
       "   'name': 'Page 1',\n",
       "   'index': 'a1',\n",
       "   'typeName': 'page'},\n",
       "  {'x': 0,\n",
       "   'y': 0,\n",
       "   'z': 1,\n",
       "   'meta': {},\n",
       "   'id': 'camera:page:page',\n",
       "   'typeName': 'camera'},\n",
       "  {'editingShapeId': None,\n",
       "   'croppingShapeId': None,\n",
       "   'selectedShapeIds': [],\n",
       "   'hoveredShapeId': None,\n",
       "   'erasingShapeIds': [],\n",
       "   'hintingShapeIds': [],\n",
       "   'focusedGroupId': None,\n",
       "   'meta': {},\n",
       "   'id': 'instance_page_state:page:page',\n",
       "   'pageId': 'page:page',\n",
       "   'typeName': 'instance_page_state'},\n",
       "  {'followingUserId': None,\n",
       "   'opacityForNextShape': 1,\n",
       "   'stylesForNextShape': {'tldraw:size': 'xl', 'tldraw:font': 'draw'},\n",
       "   'brush': None,\n",
       "   'scribbles': [],\n",
       "   'cursor': {'type': 'default', 'rotation': 0},\n",
       "   'isFocusMode': False,\n",
       "   'exportBackground': True,\n",
       "   'isDebugMode': False,\n",
       "   'isToolLocked': False,\n",
       "   'screenBounds': {'x': 0, 'y': 0, 'w': 1440, 'h': 813},\n",
       "   'insets': [False, False, False, False],\n",
       "   'zoomBrush': None,\n",
       "   'isGridMode': False,\n",
       "   'isPenMode': False,\n",
       "   'chatMessage': '',\n",
       "   'isChatting': False,\n",
       "   'highlightedUserIds': [],\n",
       "   'canMoveCamera': True,\n",
       "   'isFocused': True,\n",
       "   'devicePixelRatio': 1,\n",
       "   'isCoarsePointer': False,\n",
       "   'isHoveringCanvas': False,\n",
       "   'openMenus': ['main menu', 'main menu menu file'],\n",
       "   'isChangingStyle': False,\n",
       "   'isReadonly': False,\n",
       "   'meta': {},\n",
       "   'duplicateProps': None,\n",
       "   'id': 'instance:instance',\n",
       "   'currentPageId': 'page:page',\n",
       "   'typeName': 'instance'},\n",
       "  {'x': 483.33599853515625,\n",
       "   'y': 269.6429748535156,\n",
       "   'rotation': 0,\n",
       "   'isLocked': False,\n",
       "   'opacity': 1,\n",
       "   'meta': {},\n",
       "   'id': 'shape:QEK28nrgsx2GJbk1uaMTQ',\n",
       "   'type': 'text',\n",
       "   'props': {'color': 'black',\n",
       "    'size': 'xl',\n",
       "    'w': 566.2699584960938,\n",
       "    'text': 'Hello Tldraw !',\n",
       "    'font': 'draw',\n",
       "    'align': 'middle',\n",
       "    'autoSize': False,\n",
       "    'scale': 1},\n",
       "   'parentId': 'page:page',\n",
       "   'index': 'a1',\n",
       "   'typeName': 'shape'}]}"
      ]
     },
     "execution_count": 10,
     "metadata": {},
     "output_type": "execute_result"
    }
   ],
   "source": [
    "def load_tldraw(file_name): # uses the json module\n",
    "    with open(file_name, 'r', encoding='utf-8') as file:\n",
    "        tldraw = json.load(file)\n",
    "    return tldraw\n",
    "\n",
    "hello = load_tldraw (hello_path)\n",
    "hello"
   ]
  },
  {
   "cell_type": "markdown",
   "id": "a6ce392d-b8fa-4df2-a5e1-e5c9b81dffc8",
   "metadata": {},
   "source": [
    "# Records & Shapes"
   ]
  },
  {
   "cell_type": "markdown",
   "id": "c30a7788-e59e-42ab-a5da-c43aa1bb0872",
   "metadata": {},
   "source": [
    "```{exercise} Structure\n",
    ":label:\n",
    "\n",
    " 1. Can you locate a list of \"records\" inside `doc`? Name that list `records`.\n",
    "\n",
    " 2. Records all have a type name. Can you list all of them?\n",
    "\n",
    " 3. There should be a single shape among your records. What's it's `type`?\n",
    "\n",
    " 4. Name `hello_text` this record and display it in the notebook\n",
    "\n",
    "```"
   ]
  },
  {
   "cell_type": "code",
   "execution_count": 7,
   "id": "57beeeb5-4ec6-467a-b368-bc4b2172d130",
   "metadata": {
    "scrolled": true
   },
   "outputs": [
    {
     "name": "stdout",
     "output_type": "stream",
     "text": [
      "[{'gridSize': 10, 'name': '', 'meta': {}, 'id': 'document:document', 'typeName': 'document'}, {'id': 'pointer:pointer', 'typeName': 'pointer', 'x': 39.96662902832031, 'y': 44.85371398925781, 'lastActivityTimestamp': 1707521140180, 'meta': {}}, {'meta': {}, 'id': 'page:page', 'name': 'Page 1', 'index': 'a1', 'typeName': 'page'}, {'x': 0, 'y': 0, 'z': 1, 'meta': {}, 'id': 'camera:page:page', 'typeName': 'camera'}, {'editingShapeId': None, 'croppingShapeId': None, 'selectedShapeIds': [], 'hoveredShapeId': None, 'erasingShapeIds': [], 'hintingShapeIds': [], 'focusedGroupId': None, 'meta': {}, 'id': 'instance_page_state:page:page', 'pageId': 'page:page', 'typeName': 'instance_page_state'}, {'followingUserId': None, 'opacityForNextShape': 1, 'stylesForNextShape': {'tldraw:size': 'xl', 'tldraw:font': 'draw'}, 'brush': None, 'scribbles': [], 'cursor': {'type': 'default', 'rotation': 0}, 'isFocusMode': False, 'exportBackground': True, 'isDebugMode': False, 'isToolLocked': False, 'screenBounds': {'x': 0, 'y': 0, 'w': 1440, 'h': 813}, 'insets': [False, False, False, False], 'zoomBrush': None, 'isGridMode': False, 'isPenMode': False, 'chatMessage': '', 'isChatting': False, 'highlightedUserIds': [], 'canMoveCamera': True, 'isFocused': True, 'devicePixelRatio': 1, 'isCoarsePointer': False, 'isHoveringCanvas': False, 'openMenus': ['main menu', 'main menu menu file'], 'isChangingStyle': False, 'isReadonly': False, 'meta': {}, 'duplicateProps': None, 'id': 'instance:instance', 'currentPageId': 'page:page', 'typeName': 'instance'}, {'x': 483.33599853515625, 'y': 269.6429748535156, 'rotation': 0, 'isLocked': False, 'opacity': 1, 'meta': {}, 'id': 'shape:QEK28nrgsx2GJbk1uaMTQ', 'type': 'text', 'props': {'color': 'black', 'size': 'xl', 'w': 566.2699584960938, 'text': 'Hello Tldraw !', 'font': 'draw', 'align': 'middle', 'autoSize': False, 'scale': 1}, 'parentId': 'page:page', 'index': 'a1', 'typeName': 'shape'}]\n"
     ]
    }
   ],
   "source": [
    "records = hello[\"records\"]\n",
    "assert isinstance (records, list)\n",
    "print(records)\n",
    "# This code locates \"records\" inside doc, then assert \"records\" is a list."
   ]
  },
  {
   "cell_type": "code",
   "execution_count": 11,
   "id": "69a77ea9-22bb-40ad-ad97-e6c7dc7fa698",
   "metadata": {},
   "outputs": [
    {
     "name": "stdout",
     "output_type": "stream",
     "text": [
      "Record Types:\n",
      "['text']\n"
     ]
    }
   ],
   "source": [
    "type_names = [record[\"type\"] for record in records if \"type\" in record]\n",
    "print(\"Record Types:\")\n",
    "print(type_names)"
   ]
  },
  {
   "cell_type": "code",
   "execution_count": 12,
   "id": "8d2812ea-82dd-4c3c-96f6-f0991f6cdd4a",
   "metadata": {},
   "outputs": [
    {
     "name": "stdout",
     "output_type": "stream",
     "text": [
      "Single shape : its type is 'text'\n"
     ]
    }
   ],
   "source": [
    "print (\"Single shape : its type is 'text'\")"
   ]
  },
  {
   "cell_type": "code",
   "execution_count": 13,
   "id": "8c6cd38e-f1a3-412d-9b3b-ee486848c1f4",
   "metadata": {},
   "outputs": [
    {
     "data": {
      "text/plain": [
       "[{'x': 483.33599853515625,\n",
       "  'y': 269.6429748535156,\n",
       "  'rotation': 0,\n",
       "  'isLocked': False,\n",
       "  'opacity': 1,\n",
       "  'meta': {},\n",
       "  'id': 'shape:QEK28nrgsx2GJbk1uaMTQ',\n",
       "  'type': 'text',\n",
       "  'props': {'color': 'black',\n",
       "   'size': 'xl',\n",
       "   'w': 566.2699584960938,\n",
       "   'text': 'Hello Tldraw !',\n",
       "   'font': 'draw',\n",
       "   'align': 'middle',\n",
       "   'autoSize': False,\n",
       "   'scale': 1},\n",
       "  'parentId': 'page:page',\n",
       "  'index': 'a1',\n",
       "  'typeName': 'shape'}]"
      ]
     },
     "execution_count": 13,
     "metadata": {},
     "output_type": "execute_result"
    }
   ],
   "source": [
    "hello_text = [record for record in records if record.get(\"type\") == \"text\"]\n",
    "hello_text"
   ]
  },
  {
   "cell_type": "markdown",
   "id": "88a29de9-0fb7-4173-8f5e-29377e5e2147",
   "metadata": {},
   "source": [
    "# Edit the Document"
   ]
  },
  {
   "cell_type": "markdown",
   "id": "0e3880a5-049b-4d0a-a4aa-2678eff6406c",
   "metadata": {},
   "source": [
    "```{exercise} Text Content\n",
    "\n",
    "  1. Locate where in the `hello_text` record the text content is located.\n",
    "  \n",
    "  2. Replace \"Hello tldraw!\" with \"Hello Python!\"\n",
    "\n",
    "  3. Save the corresponding document in the directory `docs` as a `hello-python.tldr` file.\n",
    "\n",
    "  4. Load it in the tldraw editor and check that you end up with something similar to the picture below.\n",
    "\n",
    "```"
   ]
  },
  {
   "cell_type": "code",
   "execution_count": 9,
   "id": "89210809-d4e8-4bba-8784-c7ea735e95a9",
   "metadata": {},
   "outputs": [
    {
     "data": {
      "text/plain": [
       "'Hello Tldraw !'"
      ]
     },
     "execution_count": 9,
     "metadata": {},
     "output_type": "execute_result"
    }
   ],
   "source": [
    "# Question 1\n",
    "text_content = hello_text[0]['props']['text']\n",
    "text_content"
   ]
  },
  {
   "cell_type": "code",
   "execution_count": 10,
   "id": "b669c3c2-a529-4950-bcab-37ddb0ce9efc",
   "metadata": {},
   "outputs": [],
   "source": [
    "# Question 2:\n",
    "hello_text[0]['props']['text'] = \"Hello Python!\""
   ]
  },
  {
   "cell_type": "code",
   "execution_count": 11,
   "id": "9f1a7b0a-d6b0-440c-9df8-9ea48b6c9da5",
   "metadata": {},
   "outputs": [],
   "source": [
    "# Question 3: \n",
    "with open('docs/hello-python.tldr', 'w') as file:\n",
    "    json.dump(hello, file)"
   ]
  },
  {
   "cell_type": "markdown",
   "id": "1f95f445-0b47-4cea-a53b-b8d0a8bed59f",
   "metadata": {},
   "source": [
    "![](images/hello-python.png)"
   ]
  }
 ],
 "metadata": {
  "kernelspec": {
   "display_name": "Python 3 (ipykernel)",
   "language": "python",
   "name": "python3"
  },
  "language_info": {
   "codemirror_mode": {
    "name": "ipython",
    "version": 3
   },
   "file_extension": ".py",
   "mimetype": "text/x-python",
   "name": "python",
   "nbconvert_exporter": "python",
   "pygments_lexer": "ipython3",
   "version": "3.12.0"
  }
 },
 "nbformat": 4,
 "nbformat_minor": 5
}

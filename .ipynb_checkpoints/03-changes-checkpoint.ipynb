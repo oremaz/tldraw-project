{
 "cells": [
  {
   "cell_type": "markdown",
   "metadata": {},
   "source": [
    "---\n",
    "title: Tracking Changes\n",
    "date: 2023-11-30 \n",
    "authors:\n",
    "  - name: Sébastien Boisgérault\n",
    "    email: Sebastien.Boisgerault@minesparis.psl.eu\n",
    "    url: https://github.com/boisgera\n",
    "    affiliations:\n",
    "      - institution: Mines Paris - PSL University\n",
    "        department: Institut des Transformation Numériques (ITN)\n",
    "github: boisgera\n",
    "license: CC-BY-4.0\n",
    "open_access: true\n",
    "---"
   ]
  },
  {
   "cell_type": "markdown",
   "metadata": {},
   "source": [
    "In order to understand how `.tldr` files are structured, we can add a new graphical objects, change some if their properties, etc. and each time we modify the document, analyze the corresponding evolution of the file.\n",
    "\n",
    "In this notebook, we develop some tooling to help us track such changes."
   ]
  },
  {
   "cell_type": "code",
   "execution_count": 1,
   "metadata": {},
   "outputs": [],
   "source": [
    "# Importations nécessaires à cette partie\n",
    "\n",
    "import difflib\n",
    "import webbrowser\n",
    "import inspect\n",
    "import pprint"
   ]
  },
  {
   "cell_type": "markdown",
   "metadata": {},
   "source": [
    "## Text comparison"
   ]
  },
  {
   "cell_type": "markdown",
   "metadata": {},
   "source": [
    "We define two similar versions of the \"zen of Python\":"
   ]
  },
  {
   "cell_type": "code",
   "execution_count": 2,
   "metadata": {},
   "outputs": [],
   "source": [
    "zen_1 = \"\"\"The Zen of Python, by Tim Peters\n",
    "\n",
    "Beautiful is better than ugly.\n",
    "Explicit is better than implicit.\n",
    "Simple is better than complex.\n",
    "Complex is better than complicated.\n",
    "Flat is better than nested.\n",
    "Sparse is better than dense.\n",
    "Readability counts.\n",
    "Special cases aren't special enough to break the rules.\n",
    "Errors should never pass silently.\n",
    "In the face of ambiguity, refuse the temptation to guess.\n",
    "There should be one obvious way to do it.\n",
    "Although that way may not be obvious at first.\n",
    "Now is better than never.\n",
    "Although never is often better than right now.\n",
    "If the implementation is hard to explain, it's a bad idea.\n",
    "If the implementation is easy to explain, it is a good idea.\n",
    "\"\"\""
   ]
  },
  {
   "cell_type": "code",
   "execution_count": 3,
   "metadata": {},
   "outputs": [],
   "source": [
    "zen_2 = \"\"\"\\\n",
    "The Zen of Python, by Tim Peters\n",
    "\n",
    "Beautiful is better than ugly.\n",
    "Explicit is better than implicit.\n",
    "Simple is better than complex.\n",
    "Complex is better than complicated.\n",
    "Flat is better than nested.\n",
    "Sparse is better than dense.\n",
    "Readability counts.\n",
    "Special cases aren't special enough to break the rules.\n",
    "Although practicality beats purity.\n",
    "Errors should never pass silently.\n",
    "Unless explicitly silenced.\n",
    "In the face of ambiguity, refuse the temptation to guess.\n",
    "There should be one-- and preferably only one --obvious way to do it.\n",
    "Although that way may not be obvious at first unless you're Dutch.\n",
    "Now is better than never.\n",
    "Although never is often better than *right* now.\n",
    "If the implementation is hard to explain, it's a bad idea.\n",
    "If the implementation is easy to explain, it may be a very good idea.\n",
    "Namespaces are one honking great idea -- let's do more of those!\n",
    "\"\"\""
   ]
  },
  {
   "cell_type": "markdown",
   "metadata": {},
   "source": [
    "```{exercise}\n",
    " 1. Transform `zen_1` and `zen_2` into list of lines.\n",
    " 2. Use the [`difflib`](https://docs.python.org/3/library/difflib.html) module of the Python standard library to [`compare`](https://docs.python.org/3/library/difflib.html#difflib.Differ.compare) the two sequences.\n",
    " 3. Make a text out of the output of compare and print it.\n",
    " 4. Interpret the result and list the differences between both versions of the zen of Python.\n",
    "```"
   ]
  },
  {
   "cell_type": "code",
   "execution_count": 4,
   "metadata": {},
   "outputs": [],
   "source": [
    "# Question 1 : \n",
    "\n",
    "zen_1_lines = zen_1.splitlines()\n",
    "zen_2_lines = zen_2.splitlines()"
   ]
  },
  {
   "cell_type": "code",
   "execution_count": 5,
   "metadata": {},
   "outputs": [
    {
     "data": {
      "text/plain": [
       "['  The Zen of Python, by Tim Peters',\n",
       " '  ',\n",
       " '  Beautiful is better than ugly.',\n",
       " '  Explicit is better than implicit.',\n",
       " '  Simple is better than complex.',\n",
       " '  Complex is better than complicated.',\n",
       " '  Flat is better than nested.',\n",
       " '  Sparse is better than dense.',\n",
       " '  Readability counts.',\n",
       " \"  Special cases aren't special enough to break the rules.\",\n",
       " '+ Although practicality beats purity.',\n",
       " '  Errors should never pass silently.',\n",
       " '+ Unless explicitly silenced.',\n",
       " '  In the face of ambiguity, refuse the temptation to guess.',\n",
       " '- There should be one obvious way to do it.',\n",
       " '+ There should be one-- and preferably only one --obvious way to do it.',\n",
       " '- Although that way may not be obvious at first.',\n",
       " \"+ Although that way may not be obvious at first unless you're Dutch.\",\n",
       " '?                                              ++++++++++++++++++++\\n',\n",
       " '  Now is better than never.',\n",
       " '- Although never is often better than right now.',\n",
       " '+ Although never is often better than *right* now.',\n",
       " '?                                     +     +\\n',\n",
       " \"  If the implementation is hard to explain, it's a bad idea.\",\n",
       " '- If the implementation is easy to explain, it is a good idea.',\n",
       " '?                                              ^^\\n',\n",
       " '+ If the implementation is easy to explain, it may be a very good idea.',\n",
       " '?                                              ^^^^^^  +++++\\n',\n",
       " \"+ Namespaces are one honking great idea -- let's do more of those!\"]"
      ]
     },
     "execution_count": 5,
     "metadata": {},
     "output_type": "execute_result"
    }
   ],
   "source": [
    "# Question 2\n",
    "\n",
    "# Créer un objet Diff pour comparer les deux listes\n",
    "differ = difflib.Differ()\n",
    "diff = list(differ.compare(zen_1_lines, zen_2_lines))\n",
    "\n",
    "diff"
   ]
  },
  {
   "cell_type": "code",
   "execution_count": 6,
   "metadata": {},
   "outputs": [
    {
     "name": "stdout",
     "output_type": "stream",
     "text": [
      "  The Zen of Python, by Tim Peters\n",
      "  \n",
      "  Beautiful is better than ugly.\n",
      "  Explicit is better than implicit.\n",
      "  Simple is better than complex.\n",
      "  Complex is better than complicated.\n",
      "  Flat is better than nested.\n",
      "  Sparse is better than dense.\n",
      "  Readability counts.\n",
      "  Special cases aren't special enough to break the rules.\n",
      "+ Although practicality beats purity.\n",
      "  Errors should never pass silently.\n",
      "+ Unless explicitly silenced.\n",
      "  In the face of ambiguity, refuse the temptation to guess.\n",
      "- There should be one obvious way to do it.\n",
      "+ There should be one-- and preferably only one --obvious way to do it.\n",
      "- Although that way may not be obvious at first.\n",
      "+ Although that way may not be obvious at first unless you're Dutch.\n",
      "?                                              ++++++++++++++++++++\n",
      "\n",
      "  Now is better than never.\n",
      "- Although never is often better than right now.\n",
      "+ Although never is often better than *right* now.\n",
      "?                                     +     +\n",
      "\n",
      "  If the implementation is hard to explain, it's a bad idea.\n",
      "- If the implementation is easy to explain, it is a good idea.\n",
      "?                                              ^^\n",
      "\n",
      "+ If the implementation is easy to explain, it may be a very good idea.\n",
      "?                                              ^^^^^^  +++++\n",
      "\n",
      "+ Namespaces are one honking great idea -- let's do more of those!\n"
     ]
    }
   ],
   "source": [
    "# Question 3\n",
    "\n",
    "# Joindre le résultat de la comparaison en un texte\n",
    "diff_text = '\\n'.join(diff)\n",
    "print(diff_text)"
   ]
  },
  {
   "cell_type": "code",
   "execution_count": 7,
   "metadata": {},
   "outputs": [
    {
     "name": "stdout",
     "output_type": "stream",
     "text": [
      "Ligne ajoutée dans zen_2: Although practicality beats purity.\n",
      "Ligne ajoutée dans zen_2: Unless explicitly silenced.\n",
      "Ligne supprimée dans zen_2: There should be one obvious way to do it.\n",
      "Ligne ajoutée dans zen_2: There should be one-- and preferably only one --obvious way to do it.\n",
      "Ligne supprimée dans zen_2: Although that way may not be obvious at first.\n",
      "Ligne ajoutée dans zen_2: Although that way may not be obvious at first unless you're Dutch.\n",
      "Ligne supprimée dans zen_2: Although never is often better than right now.\n",
      "Ligne ajoutée dans zen_2: Although never is often better than *right* now.\n",
      "Ligne supprimée dans zen_2: If the implementation is easy to explain, it is a good idea.\n",
      "Ligne ajoutée dans zen_2: If the implementation is easy to explain, it may be a very good idea.\n",
      "Ligne ajoutée dans zen_2: Namespaces are one honking great idea -- let's do more of those!\n"
     ]
    }
   ],
   "source": [
    "# Question 4\n",
    "\n",
    "# Interpréter les différences entre les versions\n",
    "for line in diff:\n",
    "    if line.startswith('- '):\n",
    "        print(f\"Ligne supprimée dans zen_2: {line[2:]}\")\n",
    "    elif line.startswith('+ '):\n",
    "        print(f\"Ligne ajoutée dans zen_2: {line[2:]}\")"
   ]
  },
  {
   "cell_type": "markdown",
   "metadata": {},
   "source": [
    "We can make our job easier if we use HTML instead of plain text to visualise the differences between the two texts.\n",
    "\n",
    "\n",
    "```{exercise}\n",
    "  1. Use the [HtmlDiff](https://docs.python.org/3/library/difflib.html#difflib.HtmlDiff) class of difflib to produce a `diff.html` file that represents this difference in a HTML document.\n",
    "  2. Use the [webbrowser](https://docs.python.org/3/library/webbrowser.html) module of the standard library to open it!\n",
    "  3. Define a `display_diff_text` function that takes two arguments `text_1` and `text_2` and automates steps 1. and 2.\n",
    "```"
   ]
  },
  {
   "cell_type": "code",
   "execution_count": 12,
   "metadata": {},
   "outputs": [],
   "source": [
    "def creer_html_diff(texte_1, texte_2, identifiant='', dossier_sortie='docs'):\n",
    "    \n",
    "    # Crée un objet HtmlDiff\n",
    "    html_diff = difflib.HtmlDiff()\n",
    "\n",
    "    # Obtient la différence entre les deux textes\n",
    "    contenu_diff = html_diff.make_file(texte_1.splitlines(), texte_2.splitlines())\n",
    "\n",
    "    # Génère un nom de fichier unique avec identifiant\n",
    "    nom_fichier = f'diff_{identifiant}.html'\n",
    "\n",
    "    # Écrit la différence dans le fichier HTML\n",
    "    chemin_fichier = f'{dossier_sortie}/{nom_fichier}' if dossier_sortie else nom_fichier\n",
    "    with open(chemin_fichier, 'w', encoding='utf-8') as fichier:\n",
    "        fichier.write(contenu_diff)"
   ]
  },
  {
   "cell_type": "markdown",
   "metadata": {},
   "source": [
    "Détails sur la fonction précédente : \n",
    "Crée un fichier HTML représentant les différences entre deux textes.\n",
    "    \n",
    "    Args:\n",
    "    - texte_1 (str): Le premier texte à comparer.\n",
    "    - texte_2 (str): Le deuxième texte à comparer.\n",
    "    - identifiant (str): Identifiant unique à ajouter au nom du fichier (optionnel).\n",
    "    - dossier_sortie (str): Nom du dossier de sortie (ici docs)."
   ]
  },
  {
   "cell_type": "code",
   "execution_count": 13,
   "metadata": {},
   "outputs": [],
   "source": [
    "# Question 2\n",
    "\n",
    "def ouvrir_fichier_html_dans_navigateur(fichier_html):\n",
    "    #Args:\n",
    "    #- fichier_html (str): Nom du fichier HTML à ouvrir.\n",
    "\n",
    "    webbrowser.open(fichier_html)"
   ]
  },
  {
   "cell_type": "code",
   "execution_count": 14,
   "metadata": {},
   "outputs": [],
   "source": [
    "def display_diff_text(text_1, text_2, identifiant=''):\n",
    "    # Compare deux textes, crée un fichier HTML de différences et l'ouvre dans le navigateur.\n",
    "    \n",
    "    # Crée le fichier HTML de différences\n",
    "    creer_html_diff(text_1, text_2, identifiant=identifiant)\n",
    "\n",
    "    # Obtient le nom du fichier généré\n",
    "    nom_fichier = f'diff_{identifiant}.html'\n",
    "\n",
    "    # Ouvre le fichier HTML dans le navigateur web\n",
    "    ouvrir_fichier_html_dans_navigateur(nom_fichier)\n",
    "\n",
    "display_diff_text(zen_1, zen_2, identifiant='zen12')"
   ]
  },
  {
   "cell_type": "markdown",
   "metadata": {},
   "source": [
    "## Comparison of JSON documents"
   ]
  },
  {
   "cell_type": "markdown",
   "metadata": {},
   "source": [
    "````{exercise} Comparison of dictionnaries\n",
    "\n",
    " 1. Create a `display_diff` function that takes two Python objects, converts them to strings then leverages `display_diff_text` to display the difference in a browser.\n",
    "\n",
    " 2. Consider the 3 dictionaries defined by\n",
    "    ```python\n",
    "    d1 = {k:k+1 for k in range(100)}\n",
    "    d2 = d1.copy(); d2[50] = 50\n",
    "    d3 = {k:k+1 for k in range(99, -1, -1)}\n",
    "    ```\n",
    "    `d1` and `d2` have a slight difference and `d1` and `d3` are equal.\n",
    "    Does your `display_diff` function make easy to spot where the difference is in the first case when it compares `d1` and `d2`?\n",
    "    Does it make easy to see that `d1` and `d3` are equal?\n",
    "\n",
    "  3. Investigate the [`pprint`](https://docs.python.org/3/library/pprint.html) module standard library ; use it to improve the behavior of `display_text_diff` in the two cases considered in the previous question.\n",
    "\n",
    "````\n",
    " "
   ]
  },
  {
   "cell_type": "code",
   "execution_count": 15,
   "metadata": {},
   "outputs": [],
   "source": [
    "# Question 1 : \n",
    "\n",
    "def display_diff(obj_1, obj_2):\n",
    "    #Affiche la différence entre deux objets Python en les convertissant en chaînes de caractères.\n",
    "    \n",
    "    # Convertit les objets en chaînes de caractères\n",
    "    str_1 = str(obj_1)\n",
    "    str_2 = str(obj_2)\n",
    "\n",
    "    # Obtient le nom des variables passées en argument\n",
    "    frame = inspect.currentframe()\n",
    "    try:\n",
    "        caller_locals = frame.f_back.f_locals\n",
    "        variable_names = [name for name, value in caller_locals.items() if value is obj_1 or value is obj_2]\n",
    "    finally:\n",
    "        del frame\n",
    "\n",
    "    # Utilise display_diff_text pour afficher la différence avec l'identifiant spécifié\n",
    "    a = ''.join(variable_names)\n",
    "    display_diff_text(str_1, str_2, identifiant=a)"
   ]
  },
  {
   "cell_type": "code",
   "execution_count": 16,
   "metadata": {},
   "outputs": [],
   "source": [
    "# Question 2 : \n",
    "\n",
    "def compare_and_display(d1, d2, d3):\n",
    "    #Compare trois dictionnaires et affiche la différence dans un navigateur web.\n",
    "\n",
    "    # Comparaison des dictionnaires d1 et d2\n",
    "    display_diff(d1, d2)\n",
    "\n",
    "    # Comparaison des dictionnaires d1 et d3\n",
    "    display_diff(d1, d3)\n",
    "\n",
    "# Définition des dictionnaires\n",
    "d1 = {k: k + 1 for k in range(100)}\n",
    "d2 = d1.copy()\n",
    "d2[50] = 50\n",
    "d3 = {k: k + 1 for k in range(99, -1, -1)}\n",
    "\n",
    "# Comparaison et affichage des différences\n",
    "compare_and_display(d1, d2, d3)"
   ]
  },
  {
   "cell_type": "markdown",
   "metadata": {},
   "source": [
    "Très compliqué de repérer les différences, il y a du rouge et du vert partout, et les dicos sont longs et placés côte \n",
    "à côte"
   ]
  },
  {
   "cell_type": "code",
   "execution_count": 17,
   "metadata": {},
   "outputs": [],
   "source": [
    "# Question 3 : \n",
    "\n",
    "def display_diff_pprint(obj_1, obj_2):\n",
    "    #Affiche la différence entre deux objets Python en les convertissant en chaînes de caractères avec l'aide de pprint.\n",
    "\n",
    "    # Convertit les objets en chaînes de caractères avec pprint pour une meilleure lisibilité\n",
    "    str_1 = pprint.pformat(obj_1)\n",
    "    str_2 = pprint.pformat(obj_2)\n",
    "\n",
    "    # Obtient le nom des variables passées en argument\n",
    "    frame = inspect.currentframe()\n",
    "    try:\n",
    "        caller_locals = frame.f_back.f_locals\n",
    "        variable_names = [name for name, value in caller_locals.items() if value is obj_1 or value is obj_2]\n",
    "    finally:\n",
    "        del frame\n",
    "\n",
    "    # Utilise display_diff_text pour afficher la différence avec l'identifiant spécifié\n",
    "    a = ''.join(variable_names) + 'dic'\n",
    "\n",
    "    # Utilise display_diff_text_pprint pour afficher la différence avec pprint\n",
    "    display_diff_text(str_1, str_2,identifiant=a)\n",
    "\n",
    "# Exemple d'utilisation avec les dictionnaires définis\n",
    "display_diff_pprint(d1, d2)\n",
    "display_diff_pprint(d1, d3)"
   ]
  },
  {
   "cell_type": "markdown",
   "metadata": {},
   "source": [
    "```{exercise} tldraw documents comparator\n",
    "Implement a function `tldraw_diff` that takes as argument two filenames that refer to tldraw documents and display their differences in the browser.\n",
    "```"
   ]
  },
  {
   "cell_type": "code",
   "execution_count": 18,
   "metadata": {},
   "outputs": [],
   "source": [
    "def tldraw_diff(tldraw_1, tldraw_2):\n",
    "    # Affiche la différence entre deux fichiers Tldraw JSON dans un navigateur web avec pprint.\n",
    "    \n",
    "    # Charge les documents JSON\n",
    "    with open(tldraw_1, 'r', encoding='utf-8') as file:\n",
    "        tldraw_1 = json.load(file)\n",
    "\n",
    "    with open(tldraw_2, 'r', encoding='utf-8') as file:\n",
    "        tldraw_2 = json.load(file)\n",
    "\n",
    "    # Utilise display_diff_pprint pour afficher la différence avec pprint\n",
    "    display_diff_pprint(tldraw_1, tldraw_2)"
   ]
  },
  {
   "cell_type": "code",
   "execution_count": null,
   "metadata": {},
   "outputs": [],
   "source": []
  }
 ],
 "metadata": {
  "kernelspec": {
   "display_name": "Python 3 (ipykernel)",
   "language": "python",
   "name": "python3"
  },
  "language_info": {
   "codemirror_mode": {
    "name": "ipython",
    "version": 3
   },
   "file_extension": ".py",
   "mimetype": "text/x-python",
   "name": "python",
   "nbconvert_exporter": "python",
   "pygments_lexer": "ipython3",
   "version": "3.12.0"
  }
 },
 "nbformat": 4,
 "nbformat_minor": 4
}
